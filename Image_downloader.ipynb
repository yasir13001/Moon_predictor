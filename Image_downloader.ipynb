{
 "cells": [
  {
   "cell_type": "code",
   "execution_count": 51,
   "id": "45a1f947",
   "metadata": {},
   "outputs": [],
   "source": [
    " def get_hijri_date(date):\n",
    "        \"\"\"\n",
    "        Convert a Gregorian date (YYYY-MM-DD) to an Islamic (Hijri) date and get the next Islamic month.\n",
    "\n",
    "        :param georgian_date: str, Gregorian date in 'YYYY-MM-DD' format\n",
    "        :return: dict, Hijri date details including next Islamic month\n",
    "        \"\"\"\n",
    "        try:\n",
    "            # Convert date from YYYY-MM-DD to DD-MM-YYYY for API\n",
    "            converted_date =date\n",
    "\n",
    "            # API URL with formatted date\n",
    "            url = f\"https://api.aladhan.com/v1/gToH/{converted_date}?calendarMethod=UAQ\"\n",
    "            \n",
    "            # Send GET request\n",
    "            response = requests.get(url)\n",
    "            # Check if request was successful\n",
    "            if response.status_code == 200:\n",
    "                data = response.json()  # Convert response to JSON\n",
    "\n",
    "                # Extract Hijri date details\n",
    "                hijri_date = data[\"data\"][\"hijri\"][\"date\"]  # Example: \"28-08-1446\"\n",
    "                hijri_month = data[\"data\"][\"hijri\"][\"month\"][\"en\"].upper()  # Convert to uppercase\n",
    "                hijri_day = data[\"data\"][\"hijri\"][\"day\"]  # Example: \"28\"\n",
    "                hijri_year = hijri_date.split('-')[2]  # Convert year to integer\n",
    "\n",
    "                # Get current Hijri month number\n",
    "                hijri_month_number = data[\"data\"][\"hijri\"][\"month\"][\"number\"] # Example: 8 for Sha'ban\n",
    "\n",
    "                # List of Islamic months in uppercase\n",
    "                ISLAMIC_MONTHS = [\n",
    "                    \"MUHARRAM\", \"SAFAR\", \"RABI UL AWWAL\", \"RABI US SANI\",\n",
    "                    \"JUMADI UL-AWWAL\", \"JUMADI US SANI\", \"RAJAB\", \"SHABAN\",\n",
    "                    \"RAMADAN\", \"SHAWWAL\", \"ZUL-QADDAH\", \"ZUL-HIJJAH\"\n",
    "                ]\n",
    "\n",
    "                # Calculate next Islamic month\n",
    "                next_hijri_month = ISLAMIC_MONTHS[hijri_month_number % 11]  # Modulo to cycle months  \n",
    "                imonth = ISLAMIC_MONTHS[hijri_month_number-1]\n",
    "\n",
    "#                 If next month is MUHARRAM, increment the Hijri year\n",
    "                if next_hijri_month == \"MUHARRAM\":\n",
    "                    hijri_year += 1\n",
    "\n",
    "                return {\n",
    "                    \"hijri_year\": hijri_year,\n",
    "                    \"month_num\" : hijri_month_number-1\n",
    "                }\n",
    "            else:\n",
    "                return {\"error\": \"Failed to fetch Hijri date\"}\n",
    "\n",
    "        except Exception as e:\n",
    "            return {\"error\": str(e)}"
   ]
  },
  {
   "cell_type": "code",
   "execution_count": 54,
   "id": "2372d1e4",
   "metadata": {},
   "outputs": [],
   "source": [
    "from datetime import datetime\n",
    "\n",
    "def downloader(date):\n",
    "    \n",
    "    # Parse the date\n",
    "    date_obj = datetime.strptime(date, \"%d-%m-%Y\")\n",
    "\n",
    "    # Format as \"M-dd-YYYY\" with dashes\n",
    "    formatted_date = date_obj.strftime(\"%#m-%d-%Y\")  # Use %#m on Windows\n",
    "\n",
    "    names = [\"muh\",\"sfr\",\"rba\",\"rbt\",\"jmo\",\"jmt\",\"rjb\",\"shb\",\"rmd\",\"shw\",\"zqd\",\"zhj\"]\n",
    "    num =  get_hijri_date(date)[\"month_num\"]    \n",
    "    year = get_hijri_date(date)[\"hijri_year\"]\n",
    "    code = names[num]\n",
    "    url = f\"https://moonsighting.com/visibilitycurves/{year}{code}_{formatted_date}.gif\"\n",
    "\n",
    "    # Set the filename to save the image\n",
    "    filename = f\"{formatted_date}.gif\"\n",
    "\n",
    "    # Download the image\n",
    "    response = requests.get(url)\n",
    "\n",
    "    if response.status_code == 200:\n",
    "        with open(filename, \"wb\") as f:\n",
    "            f.write(response.content)\n",
    "        print(f\"Image successfully downloaded as {filename}\")\n",
    "    else:\n",
    "        print(f\"Failed to download image. Status code: {response.status_code}\")\n",
    "\n"
   ]
  },
  {
   "cell_type": "code",
   "execution_count": 56,
   "id": "a417a7e3",
   "metadata": {},
   "outputs": [
    {
     "name": "stdout",
     "output_type": "stream",
     "text": [
      "Image successfully downloaded as 3-30-2025.gif\n"
     ]
    }
   ],
   "source": [
    "date = \"30-03-2025\"\n",
    "downloader(date)"
   ]
  }
 ],
 "metadata": {
  "kernelspec": {
   "display_name": "Python 3",
   "language": "python",
   "name": "python3"
  },
  "language_info": {
   "codemirror_mode": {
    "name": "ipython",
    "version": 3
   },
   "file_extension": ".py",
   "mimetype": "text/x-python",
   "name": "python",
   "nbconvert_exporter": "python",
   "pygments_lexer": "ipython3",
   "version": "3.6.13"
  }
 },
 "nbformat": 4,
 "nbformat_minor": 5
}
